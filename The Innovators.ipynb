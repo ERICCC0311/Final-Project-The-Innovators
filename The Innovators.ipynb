{
 "cells": [
  {
   "cell_type": "code",
   "execution_count": 1,
   "id": "4176052b",
   "metadata": {},
   "outputs": [],
   "source": [
    "import pandas as pd\n",
    "import numpy as np"
   ]
  },
  {
   "cell_type": "code",
   "execution_count": 2,
   "id": "b4864a23",
   "metadata": {},
   "outputs": [],
   "source": [
    "df1 = pd.read_parquet(\"D:\\\\MSIB\\\\Final Project\\\\new_dataset.parquet\")"
   ]
  },
  {
   "cell_type": "code",
   "execution_count": 3,
   "id": "1fb9a705",
   "metadata": {
    "scrolled": true
   },
   "outputs": [
    {
     "data": {
      "text/html": [
       "<div>\n",
       "<style scoped>\n",
       "    .dataframe tbody tr th:only-of-type {\n",
       "        vertical-align: middle;\n",
       "    }\n",
       "\n",
       "    .dataframe tbody tr th {\n",
       "        vertical-align: top;\n",
       "    }\n",
       "\n",
       "    .dataframe thead th {\n",
       "        text-align: right;\n",
       "    }\n",
       "</style>\n",
       "<table border=\"1\" class=\"dataframe\">\n",
       "  <thead>\n",
       "    <tr style=\"text-align: right;\">\n",
       "      <th></th>\n",
       "      <th>SK_ID_CURR</th>\n",
       "      <th>TARGET</th>\n",
       "      <th>NAME_CONTRACT_TYPE</th>\n",
       "      <th>CODE_GENDER</th>\n",
       "      <th>CNT_CHILDREN</th>\n",
       "      <th>AMT_INCOME_TOTAL</th>\n",
       "      <th>AMT_CREDIT</th>\n",
       "      <th>AMT_GOODS_PRICE</th>\n",
       "      <th>NAME_INCOME_TYPE</th>\n",
       "      <th>NAME_EDUCATION_TYPE</th>\n",
       "      <th>...</th>\n",
       "      <th>AMT_INSTALMENT</th>\n",
       "      <th>AMT_PAYMENT</th>\n",
       "      <th>AMT_BALANCE</th>\n",
       "      <th>AMT_CREDIT_LIMIT_ACTUAL</th>\n",
       "      <th>AMT_INST_MIN_REGULARITY</th>\n",
       "      <th>AMT_TOTAL_RECEIVABLE</th>\n",
       "      <th>CNT_INSTALMENT_MATURE_CUM</th>\n",
       "      <th>NAME_CONTRACT_STATUS</th>\n",
       "      <th>SK_DPD</th>\n",
       "      <th>SK_DPD_DEF</th>\n",
       "    </tr>\n",
       "  </thead>\n",
       "  <tbody>\n",
       "    <tr>\n",
       "      <th>0</th>\n",
       "      <td>104910</td>\n",
       "      <td>0</td>\n",
       "      <td>Cash loans</td>\n",
       "      <td>M</td>\n",
       "      <td>0</td>\n",
       "      <td>135000</td>\n",
       "      <td>454500.0</td>\n",
       "      <td>454500.0</td>\n",
       "      <td>Working</td>\n",
       "      <td>Higher education</td>\n",
       "      <td>...</td>\n",
       "      <td>5625.000000</td>\n",
       "      <td>5625.000000</td>\n",
       "      <td>76160.882812</td>\n",
       "      <td>112500</td>\n",
       "      <td>5625.000000</td>\n",
       "      <td>76160.882812</td>\n",
       "      <td>20.0</td>\n",
       "      <td>Active</td>\n",
       "      <td>0</td>\n",
       "      <td>0</td>\n",
       "    </tr>\n",
       "    <tr>\n",
       "      <th>1</th>\n",
       "      <td>114543</td>\n",
       "      <td>0</td>\n",
       "      <td>Cash loans</td>\n",
       "      <td>F</td>\n",
       "      <td>0</td>\n",
       "      <td>85500</td>\n",
       "      <td>360000.0</td>\n",
       "      <td>360000.0</td>\n",
       "      <td>Working</td>\n",
       "      <td>Secondary / secondary special</td>\n",
       "      <td>...</td>\n",
       "      <td>4298.220215</td>\n",
       "      <td>4298.220215</td>\n",
       "      <td>458011.125000</td>\n",
       "      <td>450000</td>\n",
       "      <td>22510.980469</td>\n",
       "      <td>456665.625000</td>\n",
       "      <td>35.0</td>\n",
       "      <td>Active</td>\n",
       "      <td>0</td>\n",
       "      <td>0</td>\n",
       "    </tr>\n",
       "    <tr>\n",
       "      <th>2</th>\n",
       "      <td>150434</td>\n",
       "      <td>1</td>\n",
       "      <td>Cash loans</td>\n",
       "      <td>M</td>\n",
       "      <td>0</td>\n",
       "      <td>270000</td>\n",
       "      <td>755190.0</td>\n",
       "      <td>675000.0</td>\n",
       "      <td>Commercial associate</td>\n",
       "      <td>Secondary / secondary special</td>\n",
       "      <td>...</td>\n",
       "      <td>221.220001</td>\n",
       "      <td>221.220001</td>\n",
       "      <td>152298.625000</td>\n",
       "      <td>225000</td>\n",
       "      <td>11594.565430</td>\n",
       "      <td>151192.171875</td>\n",
       "      <td>29.0</td>\n",
       "      <td>Active</td>\n",
       "      <td>0</td>\n",
       "      <td>0</td>\n",
       "    </tr>\n",
       "    <tr>\n",
       "      <th>3</th>\n",
       "      <td>139581</td>\n",
       "      <td>1</td>\n",
       "      <td>Cash loans</td>\n",
       "      <td>M</td>\n",
       "      <td>0</td>\n",
       "      <td>157500</td>\n",
       "      <td>401386.5</td>\n",
       "      <td>346500.0</td>\n",
       "      <td>Working</td>\n",
       "      <td>Secondary / secondary special</td>\n",
       "      <td>...</td>\n",
       "      <td>6750.000000</td>\n",
       "      <td>6750.000000</td>\n",
       "      <td>132064.250000</td>\n",
       "      <td>135000</td>\n",
       "      <td>6750.000000</td>\n",
       "      <td>131168.750000</td>\n",
       "      <td>33.0</td>\n",
       "      <td>Active</td>\n",
       "      <td>0</td>\n",
       "      <td>0</td>\n",
       "    </tr>\n",
       "    <tr>\n",
       "      <th>4</th>\n",
       "      <td>118505</td>\n",
       "      <td>1</td>\n",
       "      <td>Cash loans</td>\n",
       "      <td>F</td>\n",
       "      <td>0</td>\n",
       "      <td>234000</td>\n",
       "      <td>285723.0</td>\n",
       "      <td>238500.0</td>\n",
       "      <td>Commercial associate</td>\n",
       "      <td>Secondary / secondary special</td>\n",
       "      <td>...</td>\n",
       "      <td>5936.354980</td>\n",
       "      <td>2250.000000</td>\n",
       "      <td>117962.773438</td>\n",
       "      <td>135000</td>\n",
       "      <td>5979.194824</td>\n",
       "      <td>117962.773438</td>\n",
       "      <td>5.0</td>\n",
       "      <td>Active</td>\n",
       "      <td>0</td>\n",
       "      <td>0</td>\n",
       "    </tr>\n",
       "  </tbody>\n",
       "</table>\n",
       "<p>5 rows × 43 columns</p>\n",
       "</div>"
      ],
      "text/plain": [
       "   SK_ID_CURR  TARGET NAME_CONTRACT_TYPE CODE_GENDER  CNT_CHILDREN  \\\n",
       "0      104910       0         Cash loans           M             0   \n",
       "1      114543       0         Cash loans           F             0   \n",
       "2      150434       1         Cash loans           M             0   \n",
       "3      139581       1         Cash loans           M             0   \n",
       "4      118505       1         Cash loans           F             0   \n",
       "\n",
       "   AMT_INCOME_TOTAL  AMT_CREDIT  AMT_GOODS_PRICE      NAME_INCOME_TYPE  \\\n",
       "0            135000    454500.0         454500.0               Working   \n",
       "1             85500    360000.0         360000.0               Working   \n",
       "2            270000    755190.0         675000.0  Commercial associate   \n",
       "3            157500    401386.5         346500.0               Working   \n",
       "4            234000    285723.0         238500.0  Commercial associate   \n",
       "\n",
       "             NAME_EDUCATION_TYPE  ... AMT_INSTALMENT  AMT_PAYMENT  \\\n",
       "0               Higher education  ...    5625.000000  5625.000000   \n",
       "1  Secondary / secondary special  ...    4298.220215  4298.220215   \n",
       "2  Secondary / secondary special  ...     221.220001   221.220001   \n",
       "3  Secondary / secondary special  ...    6750.000000  6750.000000   \n",
       "4  Secondary / secondary special  ...    5936.354980  2250.000000   \n",
       "\n",
       "     AMT_BALANCE  AMT_CREDIT_LIMIT_ACTUAL AMT_INST_MIN_REGULARITY  \\\n",
       "0   76160.882812                   112500             5625.000000   \n",
       "1  458011.125000                   450000            22510.980469   \n",
       "2  152298.625000                   225000            11594.565430   \n",
       "3  132064.250000                   135000             6750.000000   \n",
       "4  117962.773438                   135000             5979.194824   \n",
       "\n",
       "   AMT_TOTAL_RECEIVABLE CNT_INSTALMENT_MATURE_CUM NAME_CONTRACT_STATUS  \\\n",
       "0          76160.882812                      20.0               Active   \n",
       "1         456665.625000                      35.0               Active   \n",
       "2         151192.171875                      29.0               Active   \n",
       "3         131168.750000                      33.0               Active   \n",
       "4         117962.773438                       5.0               Active   \n",
       "\n",
       "   SK_DPD  SK_DPD_DEF  \n",
       "0       0           0  \n",
       "1       0           0  \n",
       "2       0           0  \n",
       "3       0           0  \n",
       "4       0           0  \n",
       "\n",
       "[5 rows x 43 columns]"
      ]
     },
     "execution_count": 3,
     "metadata": {},
     "output_type": "execute_result"
    }
   ],
   "source": [
    "df1.head()"
   ]
  },
  {
   "cell_type": "code",
   "execution_count": 4,
   "id": "384b8d54",
   "metadata": {
    "scrolled": true
   },
   "outputs": [
    {
     "name": "stdout",
     "output_type": "stream",
     "text": [
      "<class 'pandas.core.frame.DataFrame'>\n",
      "RangeIndex: 2500000 entries, 0 to 2499999\n",
      "Data columns (total 43 columns):\n",
      " #   Column                      Dtype   \n",
      "---  ------                      -----   \n",
      " 0   SK_ID_CURR                  int32   \n",
      " 1   TARGET                      int32   \n",
      " 2   NAME_CONTRACT_TYPE          category\n",
      " 3   CODE_GENDER                 category\n",
      " 4   CNT_CHILDREN                int8    \n",
      " 5   AMT_INCOME_TOTAL            int32   \n",
      " 6   AMT_CREDIT                  float32 \n",
      " 7   AMT_GOODS_PRICE             float32 \n",
      " 8   NAME_INCOME_TYPE            category\n",
      " 9   NAME_EDUCATION_TYPE         category\n",
      " 10  NAME_FAMILY_STATUS          category\n",
      " 11  AGE                         int8    \n",
      " 12  OCCUPATION_TYPE             category\n",
      " 13  CNT_FAM_MEMBERS             int8    \n",
      " 14  WEEKDAY_APPR_PROCESS_START  category\n",
      " 15  SK_ID_BUREAU                float32 \n",
      " 16  CREDIT_ACTIVE               category\n",
      " 17  CREDIT_CURRENCY             category\n",
      " 18  CREDIT_DAY_OVERDUE          float32 \n",
      " 19  CNT_CREDIT_PROLONG          float32 \n",
      " 20  AMT_CREDIT_SUM              float32 \n",
      " 21  AMT_CREDIT_SUM_DEBT         float32 \n",
      " 22  AMT_CREDIT_SUM_LIMIT        float32 \n",
      " 23  AMT_CREDIT_SUM_OVERDUE      float32 \n",
      " 24  CREDIT_TYPE                 category\n",
      " 25  AMT_ANNUITY                 float32 \n",
      " 26  MONTHS_BALANCE              float32 \n",
      " 27  STATUS                      category\n",
      " 28  SK_ID_PREV                  float32 \n",
      " 29  AMT_APPLICATION             float32 \n",
      " 30  NAME_CASH_LOAN_PURPOSE      category\n",
      " 31  NAME_PRODUCT_TYPE           category\n",
      " 32  CHANNEL_TYPE                category\n",
      " 33  AMT_INSTALMENT              float32 \n",
      " 34  AMT_PAYMENT                 float32 \n",
      " 35  AMT_BALANCE                 float32 \n",
      " 36  AMT_CREDIT_LIMIT_ACTUAL     int32   \n",
      " 37  AMT_INST_MIN_REGULARITY     float32 \n",
      " 38  AMT_TOTAL_RECEIVABLE        float32 \n",
      " 39  CNT_INSTALMENT_MATURE_CUM   float32 \n",
      " 40  NAME_CONTRACT_STATUS        category\n",
      " 41  SK_DPD                      int16   \n",
      " 42  SK_DPD_DEF                  int16   \n",
      "dtypes: category(15), float32(19), int16(2), int32(4), int8(3)\n",
      "memory usage: 271.8 MB\n"
     ]
    }
   ],
   "source": [
    "df1.info()"
   ]
  },
  {
   "cell_type": "code",
   "execution_count": 5,
   "id": "67698c35",
   "metadata": {
    "scrolled": true
   },
   "outputs": [
    {
     "data": {
      "text/plain": [
       "0    1250000\n",
       "1    1250000\n",
       "Name: TARGET, dtype: int64"
      ]
     },
     "execution_count": 5,
     "metadata": {},
     "output_type": "execute_result"
    }
   ],
   "source": [
    "TARGET = df1['TARGET']\n",
    "TARGET.value_counts()"
   ]
  },
  {
   "cell_type": "markdown",
   "id": "18b20863",
   "metadata": {},
   "source": [
    "## One-Hot Encoding"
   ]
  },
  {
   "cell_type": "code",
   "execution_count": 6,
   "id": "0b24e55d",
   "metadata": {
    "scrolled": true
   },
   "outputs": [
    {
     "name": "stdout",
     "output_type": "stream",
     "text": [
      "One-hot encoding completed!\n",
      "\n",
      "Shape before:  (2500000, 43)\n",
      "Shape after:  (2500000, 151)\n"
     ]
    }
   ],
   "source": [
    "df1_before = df1.copy()\n",
    "\n",
    "df1 = pd.get_dummies(df1)\n",
    "print ('One-hot encoding completed!\\n')\n",
    "print ('Shape before: ', df1_before.shape)\n",
    "print ('Shape after: ', df1.shape)"
   ]
  },
  {
   "cell_type": "markdown",
   "id": "5cb7afab",
   "metadata": {},
   "source": [
    "## Splitting the dataset"
   ]
  },
  {
   "cell_type": "code",
   "execution_count": 7,
   "id": "4cc71b72",
   "metadata": {},
   "outputs": [
    {
     "name": "stdout",
     "output_type": "stream",
     "text": [
      "Requirement already satisfied: scikit-learn in c:\\users\\asus\\anaconda3\\lib\\site-packages (1.0.2)\n",
      "Requirement already satisfied: threadpoolctl>=2.0.0 in c:\\users\\asus\\anaconda3\\lib\\site-packages (from scikit-learn) (2.2.0)\n",
      "Requirement already satisfied: scipy>=1.1.0 in c:\\users\\asus\\anaconda3\\lib\\site-packages (from scikit-learn) (1.9.1)\n",
      "Requirement already satisfied: joblib>=0.11 in c:\\users\\asus\\anaconda3\\lib\\site-packages (from scikit-learn) (1.1.0)\n",
      "Requirement already satisfied: numpy>=1.14.6 in c:\\users\\asus\\anaconda3\\lib\\site-packages (from scikit-learn) (1.21.5)\n"
     ]
    }
   ],
   "source": [
    "!pip install scikit-learn"
   ]
  },
  {
   "cell_type": "code",
   "execution_count": 8,
   "id": "3d314410",
   "metadata": {
    "scrolled": true
   },
   "outputs": [
    {
     "name": "stderr",
     "output_type": "stream",
     "text": [
      "C:\\Users\\ASUS\\AppData\\Local\\Temp\\ipykernel_9316\\4043094809.py:3: FutureWarning: In a future version of pandas all arguments of DataFrame.drop except for the argument 'labels' will be keyword-only.\n",
      "  X= df1.drop(['TARGET'],1)\n"
     ]
    }
   ],
   "source": [
    "#data validation into split test & test\n",
    "y= df1['TARGET']\n",
    "X= df1.drop(['TARGET'],1)\n",
    "\n",
    "from sklearn.model_selection import train_test_split\n",
    "X_train, X_test, y_train, y_test = train_test_split(X, y, train_size=0.7, test_size=0.3, random_state=123)"
   ]
  },
  {
   "cell_type": "markdown",
   "id": "feae6373",
   "metadata": {},
   "source": [
    "## Logistic Regression"
   ]
  },
  {
   "cell_type": "code",
   "execution_count": 9,
   "id": "47390bdf",
   "metadata": {},
   "outputs": [],
   "source": [
    "from sklearn.model_selection import cross_val_score\n",
    "from sklearn.model_selection import KFold\n",
    "from sklearn.linear_model import LogisticRegression"
   ]
  },
  {
   "cell_type": "code",
   "execution_count": 10,
   "id": "fbfcc136",
   "metadata": {
    "scrolled": true
   },
   "outputs": [
    {
     "name": "stderr",
     "output_type": "stream",
     "text": [
      "C:\\Users\\ASUS\\anaconda3\\lib\\site-packages\\sklearn\\linear_model\\_logistic.py:814: ConvergenceWarning: lbfgs failed to converge (status=1):\n",
      "STOP: TOTAL NO. of ITERATIONS REACHED LIMIT.\n",
      "\n",
      "Increase the number of iterations (max_iter) or scale the data as shown in:\n",
      "    https://scikit-learn.org/stable/modules/preprocessing.html\n",
      "Please also refer to the documentation for alternative solver options:\n",
      "    https://scikit-learn.org/stable/modules/linear_model.html#logistic-regression\n",
      "  n_iter_i = _check_optimize_result(\n",
      "C:\\Users\\ASUS\\anaconda3\\lib\\site-packages\\sklearn\\linear_model\\_logistic.py:814: ConvergenceWarning: lbfgs failed to converge (status=1):\n",
      "STOP: TOTAL NO. of ITERATIONS REACHED LIMIT.\n",
      "\n",
      "Increase the number of iterations (max_iter) or scale the data as shown in:\n",
      "    https://scikit-learn.org/stable/modules/preprocessing.html\n",
      "Please also refer to the documentation for alternative solver options:\n",
      "    https://scikit-learn.org/stable/modules/linear_model.html#logistic-regression\n",
      "  n_iter_i = _check_optimize_result(\n",
      "C:\\Users\\ASUS\\anaconda3\\lib\\site-packages\\sklearn\\linear_model\\_logistic.py:814: ConvergenceWarning: lbfgs failed to converge (status=1):\n",
      "STOP: TOTAL NO. of ITERATIONS REACHED LIMIT.\n",
      "\n",
      "Increase the number of iterations (max_iter) or scale the data as shown in:\n",
      "    https://scikit-learn.org/stable/modules/preprocessing.html\n",
      "Please also refer to the documentation for alternative solver options:\n",
      "    https://scikit-learn.org/stable/modules/linear_model.html#logistic-regression\n",
      "  n_iter_i = _check_optimize_result(\n"
     ]
    },
    {
     "name": "stdout",
     "output_type": "stream",
     "text": [
      "Hasil Cross Validation (akurasi):  [0.62819414 0.62485236 0.62788836]\n",
      "Rata-rata akurasi:  0.6269782850195119\n",
      "Standar deviasi akurasi:  0.0015084324505678264\n"
     ]
    }
   ],
   "source": [
    "# Misalkan Anda memiliki data pelatihan 'X_train' dan target 'y_train'\n",
    "# dan ingin menggunakan model Logistic Regression\n",
    "\n",
    "# Membuat objek model Logistic Regression\n",
    "model = LogisticRegression()\n",
    "\n",
    "# Membuat objek KFold dengan 3 lipatan\n",
    "kfold = KFold(n_splits=3)\n",
    "\n",
    "# Melakukan cross validation dengan model Logistic Regression\n",
    "scores = cross_val_score(model, X_train, y_train, cv=kfold)\n",
    "\n",
    "# Menampilkan hasil evaluasi kinerja model pada setiap lipatan\n",
    "print(\"Hasil Cross Validation (akurasi): \", scores)\n",
    "\n",
    "# Menampilkan rata-rata dan standar deviasi dari hasil cross validation\n",
    "print(\"Rata-rata akurasi: \", scores.mean())\n",
    "print(\"Standar deviasi akurasi: \", scores.std())"
   ]
  },
  {
   "cell_type": "code",
   "execution_count": 11,
   "id": "7437f62c",
   "metadata": {},
   "outputs": [],
   "source": [
    "from sklearn.linear_model import LogisticRegression\n",
    "from sklearn.model_selection import GridSearchCV"
   ]
  },
  {
   "cell_type": "code",
   "execution_count": 12,
   "id": "f55d1014",
   "metadata": {},
   "outputs": [
    {
     "name": "stderr",
     "output_type": "stream",
     "text": [
      "C:\\Users\\ASUS\\anaconda3\\lib\\site-packages\\sklearn\\linear_model\\_logistic.py:814: ConvergenceWarning: lbfgs failed to converge (status=1):\n",
      "STOP: TOTAL NO. of ITERATIONS REACHED LIMIT.\n",
      "\n",
      "Increase the number of iterations (max_iter) or scale the data as shown in:\n",
      "    https://scikit-learn.org/stable/modules/preprocessing.html\n",
      "Please also refer to the documentation for alternative solver options:\n",
      "    https://scikit-learn.org/stable/modules/linear_model.html#logistic-regression\n",
      "  n_iter_i = _check_optimize_result(\n",
      "C:\\Users\\ASUS\\anaconda3\\lib\\site-packages\\sklearn\\linear_model\\_logistic.py:814: ConvergenceWarning: lbfgs failed to converge (status=1):\n",
      "STOP: TOTAL NO. of ITERATIONS REACHED LIMIT.\n",
      "\n",
      "Increase the number of iterations (max_iter) or scale the data as shown in:\n",
      "    https://scikit-learn.org/stable/modules/preprocessing.html\n",
      "Please also refer to the documentation for alternative solver options:\n",
      "    https://scikit-learn.org/stable/modules/linear_model.html#logistic-regression\n",
      "  n_iter_i = _check_optimize_result(\n",
      "C:\\Users\\ASUS\\anaconda3\\lib\\site-packages\\sklearn\\linear_model\\_logistic.py:814: ConvergenceWarning: lbfgs failed to converge (status=1):\n",
      "STOP: TOTAL NO. of ITERATIONS REACHED LIMIT.\n",
      "\n",
      "Increase the number of iterations (max_iter) or scale the data as shown in:\n",
      "    https://scikit-learn.org/stable/modules/preprocessing.html\n",
      "Please also refer to the documentation for alternative solver options:\n",
      "    https://scikit-learn.org/stable/modules/linear_model.html#logistic-regression\n",
      "  n_iter_i = _check_optimize_result(\n",
      "C:\\Users\\ASUS\\anaconda3\\lib\\site-packages\\sklearn\\linear_model\\_logistic.py:814: ConvergenceWarning: lbfgs failed to converge (status=1):\n",
      "STOP: TOTAL NO. of ITERATIONS REACHED LIMIT.\n",
      "\n",
      "Increase the number of iterations (max_iter) or scale the data as shown in:\n",
      "    https://scikit-learn.org/stable/modules/preprocessing.html\n",
      "Please also refer to the documentation for alternative solver options:\n",
      "    https://scikit-learn.org/stable/modules/linear_model.html#logistic-regression\n",
      "  n_iter_i = _check_optimize_result(\n",
      "C:\\Users\\ASUS\\anaconda3\\lib\\site-packages\\sklearn\\linear_model\\_logistic.py:814: ConvergenceWarning: lbfgs failed to converge (status=1):\n",
      "STOP: TOTAL NO. of ITERATIONS REACHED LIMIT.\n",
      "\n",
      "Increase the number of iterations (max_iter) or scale the data as shown in:\n",
      "    https://scikit-learn.org/stable/modules/preprocessing.html\n",
      "Please also refer to the documentation for alternative solver options:\n",
      "    https://scikit-learn.org/stable/modules/linear_model.html#logistic-regression\n",
      "  n_iter_i = _check_optimize_result(\n",
      "C:\\Users\\ASUS\\anaconda3\\lib\\site-packages\\sklearn\\linear_model\\_logistic.py:814: ConvergenceWarning: lbfgs failed to converge (status=1):\n",
      "STOP: TOTAL NO. of ITERATIONS REACHED LIMIT.\n",
      "\n",
      "Increase the number of iterations (max_iter) or scale the data as shown in:\n",
      "    https://scikit-learn.org/stable/modules/preprocessing.html\n",
      "Please also refer to the documentation for alternative solver options:\n",
      "    https://scikit-learn.org/stable/modules/linear_model.html#logistic-regression\n",
      "  n_iter_i = _check_optimize_result(\n",
      "C:\\Users\\ASUS\\anaconda3\\lib\\site-packages\\sklearn\\linear_model\\_logistic.py:814: ConvergenceWarning: lbfgs failed to converge (status=1):\n",
      "STOP: TOTAL NO. of ITERATIONS REACHED LIMIT.\n",
      "\n",
      "Increase the number of iterations (max_iter) or scale the data as shown in:\n",
      "    https://scikit-learn.org/stable/modules/preprocessing.html\n",
      "Please also refer to the documentation for alternative solver options:\n",
      "    https://scikit-learn.org/stable/modules/linear_model.html#logistic-regression\n",
      "  n_iter_i = _check_optimize_result(\n",
      "C:\\Users\\ASUS\\anaconda3\\lib\\site-packages\\sklearn\\linear_model\\_logistic.py:814: ConvergenceWarning: lbfgs failed to converge (status=1):\n",
      "STOP: TOTAL NO. of ITERATIONS REACHED LIMIT.\n",
      "\n",
      "Increase the number of iterations (max_iter) or scale the data as shown in:\n",
      "    https://scikit-learn.org/stable/modules/preprocessing.html\n",
      "Please also refer to the documentation for alternative solver options:\n",
      "    https://scikit-learn.org/stable/modules/linear_model.html#logistic-regression\n",
      "  n_iter_i = _check_optimize_result(\n",
      "C:\\Users\\ASUS\\anaconda3\\lib\\site-packages\\sklearn\\linear_model\\_logistic.py:814: ConvergenceWarning: lbfgs failed to converge (status=1):\n",
      "STOP: TOTAL NO. of ITERATIONS REACHED LIMIT.\n",
      "\n",
      "Increase the number of iterations (max_iter) or scale the data as shown in:\n",
      "    https://scikit-learn.org/stable/modules/preprocessing.html\n",
      "Please also refer to the documentation for alternative solver options:\n",
      "    https://scikit-learn.org/stable/modules/linear_model.html#logistic-regression\n",
      "  n_iter_i = _check_optimize_result(\n"
     ]
    },
    {
     "name": "stdout",
     "output_type": "stream",
     "text": [
      "Best parameters:  {'C': 1.0}\n",
      "Best score:  0.6282388579315119\n"
     ]
    },
    {
     "name": "stderr",
     "output_type": "stream",
     "text": [
      "C:\\Users\\ASUS\\anaconda3\\lib\\site-packages\\sklearn\\linear_model\\_logistic.py:814: ConvergenceWarning: lbfgs failed to converge (status=1):\n",
      "STOP: TOTAL NO. of ITERATIONS REACHED LIMIT.\n",
      "\n",
      "Increase the number of iterations (max_iter) or scale the data as shown in:\n",
      "    https://scikit-learn.org/stable/modules/preprocessing.html\n",
      "Please also refer to the documentation for alternative solver options:\n",
      "    https://scikit-learn.org/stable/modules/linear_model.html#logistic-regression\n",
      "  n_iter_i = _check_optimize_result(\n"
     ]
    }
   ],
   "source": [
    "#Tentukan model Logistic Regression\n",
    "model = LogisticRegression()\n",
    "\n",
    "# Tentukan dictionary dari hyperparameter yang ingin Anda tuning dan nilai-nilai yang ingin Anda coba\n",
    "param_grid = {\n",
    "    'C': [0.1, 1.0, 10.0]\n",
    "    #'penalty': ['l1', 'l2'],\n",
    "    #'solver': ['liblinear', 'saga']\n",
    "}\n",
    "\n",
    "\n",
    "# Buat objek GridSearchCV dengan model, parameter grid, dan jumlah lipatan cross-validation yang diinginkan\n",
    "grid_search = GridSearchCV(model, param_grid, cv=3)\n",
    "\n",
    "# Lakukan fit dengan data pelatihan untuk mencari kombinasi hyperparameter terbaik\n",
    "grid_search.fit(X_train, y_train)\n",
    "\n",
    "# Melihat hasil terbaik dan parameter yang menghasilkannya\n",
    "print(\"Best parameters: \", grid_search.best_params_)\n",
    "print(\"Best score: \", grid_search.best_score_)"
   ]
  },
  {
   "cell_type": "code",
   "execution_count": 13,
   "id": "a3ad18f0",
   "metadata": {
    "scrolled": true
   },
   "outputs": [
    {
     "name": "stderr",
     "output_type": "stream",
     "text": [
      "C:\\Users\\ASUS\\anaconda3\\lib\\site-packages\\sklearn\\linear_model\\_logistic.py:814: ConvergenceWarning: lbfgs failed to converge (status=1):\n",
      "STOP: TOTAL NO. of ITERATIONS REACHED LIMIT.\n",
      "\n",
      "Increase the number of iterations (max_iter) or scale the data as shown in:\n",
      "    https://scikit-learn.org/stable/modules/preprocessing.html\n",
      "Please also refer to the documentation for alternative solver options:\n",
      "    https://scikit-learn.org/stable/modules/linear_model.html#logistic-regression\n",
      "  n_iter_i = _check_optimize_result(\n",
      "C:\\Users\\ASUS\\anaconda3\\lib\\site-packages\\sklearn\\linear_model\\_logistic.py:814: ConvergenceWarning: lbfgs failed to converge (status=1):\n",
      "STOP: TOTAL NO. of ITERATIONS REACHED LIMIT.\n",
      "\n",
      "Increase the number of iterations (max_iter) or scale the data as shown in:\n",
      "    https://scikit-learn.org/stable/modules/preprocessing.html\n",
      "Please also refer to the documentation for alternative solver options:\n",
      "    https://scikit-learn.org/stable/modules/linear_model.html#logistic-regression\n",
      "  n_iter_i = _check_optimize_result(\n",
      "C:\\Users\\ASUS\\anaconda3\\lib\\site-packages\\sklearn\\linear_model\\_logistic.py:814: ConvergenceWarning: lbfgs failed to converge (status=1):\n",
      "STOP: TOTAL NO. of ITERATIONS REACHED LIMIT.\n",
      "\n",
      "Increase the number of iterations (max_iter) or scale the data as shown in:\n",
      "    https://scikit-learn.org/stable/modules/preprocessing.html\n",
      "Please also refer to the documentation for alternative solver options:\n",
      "    https://scikit-learn.org/stable/modules/linear_model.html#logistic-regression\n",
      "  n_iter_i = _check_optimize_result(\n",
      "C:\\Users\\ASUS\\anaconda3\\lib\\site-packages\\sklearn\\model_selection\\_validation.py:372: FitFailedWarning: \n",
      "3 fits failed out of a total of 6.\n",
      "The score on these train-test partitions for these parameters will be set to nan.\n",
      "If these failures are not expected, you can try to debug them by setting error_score='raise'.\n",
      "\n",
      "Below are more details about the failures:\n",
      "--------------------------------------------------------------------------------\n",
      "3 fits failed with the following error:\n",
      "Traceback (most recent call last):\n",
      "  File \"C:\\Users\\ASUS\\anaconda3\\lib\\site-packages\\sklearn\\model_selection\\_validation.py\", line 680, in _fit_and_score\n",
      "    estimator.fit(X_train, y_train, **fit_params)\n",
      "  File \"C:\\Users\\ASUS\\anaconda3\\lib\\site-packages\\sklearn\\linear_model\\_logistic.py\", line 1461, in fit\n",
      "    solver = _check_solver(self.solver, self.penalty, self.dual)\n",
      "  File \"C:\\Users\\ASUS\\anaconda3\\lib\\site-packages\\sklearn\\linear_model\\_logistic.py\", line 447, in _check_solver\n",
      "    raise ValueError(\n",
      "ValueError: Solver lbfgs supports only 'l2' or 'none' penalties, got l1 penalty.\n",
      "\n",
      "  warnings.warn(some_fits_failed_message, FitFailedWarning)\n",
      "C:\\Users\\ASUS\\anaconda3\\lib\\site-packages\\sklearn\\model_selection\\_search.py:969: UserWarning: One or more of the test scores are non-finite: [       nan 0.62823886]\n",
      "  warnings.warn(\n"
     ]
    },
    {
     "name": "stdout",
     "output_type": "stream",
     "text": [
      "Best parameters:  {'penalty': 'l2'}\n",
      "Best score:  0.6282388579315119\n"
     ]
    },
    {
     "name": "stderr",
     "output_type": "stream",
     "text": [
      "C:\\Users\\ASUS\\anaconda3\\lib\\site-packages\\sklearn\\linear_model\\_logistic.py:814: ConvergenceWarning: lbfgs failed to converge (status=1):\n",
      "STOP: TOTAL NO. of ITERATIONS REACHED LIMIT.\n",
      "\n",
      "Increase the number of iterations (max_iter) or scale the data as shown in:\n",
      "    https://scikit-learn.org/stable/modules/preprocessing.html\n",
      "Please also refer to the documentation for alternative solver options:\n",
      "    https://scikit-learn.org/stable/modules/linear_model.html#logistic-regression\n",
      "  n_iter_i = _check_optimize_result(\n"
     ]
    }
   ],
   "source": [
    "#Tentukan model Logistic Regression\n",
    "model = LogisticRegression()\n",
    "\n",
    "# Tentukan dictionary dari hyperparameter yang ingin Anda tuning dan nilai-nilai yang ingin Anda coba\n",
    "param_grid = {\n",
    "    #'C': [0.1, 1.0, 10.0]\n",
    "    'penalty': ['l1', 'l2'],\n",
    "    #'solver': ['liblinear', 'saga']\n",
    "}\n",
    "\n",
    "\n",
    "# Buat objek GridSearchCV dengan model, parameter grid, dan jumlah lipatan cross-validation yang diinginkan\n",
    "grid_search = GridSearchCV(model, param_grid, cv=3)\n",
    "\n",
    "# Lakukan fit dengan data pelatihan untuk mencari kombinasi hyperparameter terbaik\n",
    "grid_search.fit(X_train, y_train)\n",
    "\n",
    "# Melihat hasil terbaik dan parameter yang menghasilkannya\n",
    "print(\"Best parameters: \", grid_search.best_params_)\n",
    "print(\"Best score: \", grid_search.best_score_)"
   ]
  },
  {
   "cell_type": "code",
   "execution_count": 15,
   "id": "94af8170",
   "metadata": {
    "scrolled": true
   },
   "outputs": [
    {
     "name": "stderr",
     "output_type": "stream",
     "text": [
      "C:\\Users\\ASUS\\anaconda3\\lib\\site-packages\\sklearn\\linear_model\\_sag.py:352: ConvergenceWarning: The max_iter was reached which means the coef_ did not converge\n",
      "  warnings.warn(\n",
      "C:\\Users\\ASUS\\anaconda3\\lib\\site-packages\\sklearn\\linear_model\\_sag.py:352: ConvergenceWarning: The max_iter was reached which means the coef_ did not converge\n",
      "  warnings.warn(\n",
      "C:\\Users\\ASUS\\anaconda3\\lib\\site-packages\\sklearn\\linear_model\\_sag.py:352: ConvergenceWarning: The max_iter was reached which means the coef_ did not converge\n",
      "  warnings.warn(\n"
     ]
    },
    {
     "name": "stdout",
     "output_type": "stream",
     "text": [
      "Best parameters:  {'solver': 'saga'}\n",
      "Best score:  0.6316560008007386\n"
     ]
    },
    {
     "name": "stderr",
     "output_type": "stream",
     "text": [
      "C:\\Users\\ASUS\\anaconda3\\lib\\site-packages\\sklearn\\linear_model\\_sag.py:352: ConvergenceWarning: The max_iter was reached which means the coef_ did not converge\n",
      "  warnings.warn(\n"
     ]
    }
   ],
   "source": [
    "#Tentukan model Logistic Regression\n",
    "model = LogisticRegression()\n",
    "\n",
    "# Tentukan dictionary dari hyperparameter yang ingin Anda tuning dan nilai-nilai yang ingin Anda coba\n",
    "param_grid = {\n",
    "    #'C': [0.1, 1.0, 10.0],\n",
    "    #'penalty': ['l1', 'l2'],\n",
    "    'solver': ['liblinear', 'saga']\n",
    "}\n",
    "\n",
    "\n",
    "# Buat objek GridSearchCV dengan model, parameter grid, dan jumlah lipatan cross-validation yang diinginkan\n",
    "grid_search = GridSearchCV(model, param_grid, cv=3)\n",
    "\n",
    "# Lakukan fit dengan data pelatihan untuk mencari kombinasi hyperparameter terbaik\n",
    "grid_search.fit(X_train, y_train)\n",
    "\n",
    "# Melihat hasil terbaik dan parameter yang menghasilkannya\n",
    "print(\"Best parameters: \", grid_search.best_params_)\n",
    "print(\"Best score: \", grid_search.best_score_)"
   ]
  },
  {
   "cell_type": "code",
   "execution_count": 17,
   "id": "d7093b87",
   "metadata": {},
   "outputs": [
    {
     "name": "stderr",
     "output_type": "stream",
     "text": [
      "C:\\Users\\ASUS\\anaconda3\\lib\\site-packages\\sklearn\\linear_model\\_sag.py:352: ConvergenceWarning: The max_iter was reached which means the coef_ did not converge\n",
      "  warnings.warn(\n"
     ]
    },
    {
     "name": "stdout",
     "output_type": "stream",
     "text": [
      "Akurasi:  0.6341506666666666\n"
     ]
    }
   ],
   "source": [
    "from sklearn.linear_model import LogisticRegression\n",
    "from sklearn.metrics import accuracy_score\n",
    "\n",
    "# Membuat objek model Logistic Regression dengan parameter-parameter yang disarankan\n",
    "model = LogisticRegression(C=1.0, penalty='l2', solver='saga')\n",
    "\n",
    "# Melatih model dengan data pelatihan\n",
    "model.fit(X_train, y_train)\n",
    "\n",
    "# Memprediksi data uji dengan model yang telah dilatih\n",
    "y_pred = model.predict(X_test)\n",
    "\n",
    "# Menghitung dan mencetak akurasi\n",
    "accuracy = accuracy_score(y_test, y_pred)\n",
    "print(\"Akurasi: \", accuracy)"
   ]
  },
  {
   "cell_type": "markdown",
   "id": "6c0b4280",
   "metadata": {},
   "source": [
    "## Model Naive Bayes"
   ]
  },
  {
   "cell_type": "code",
   "execution_count": 11,
   "id": "f98cf79f",
   "metadata": {},
   "outputs": [],
   "source": [
    "from sklearn.naive_bayes import GaussianNB\n",
    "from sklearn.model_selection import KFold, cross_val_score"
   ]
  },
  {
   "cell_type": "code",
   "execution_count": 13,
   "id": "cf08816b",
   "metadata": {},
   "outputs": [
    {
     "name": "stdout",
     "output_type": "stream",
     "text": [
      "Hasil Cross Validation (akurasi):  [0.59651932 0.59529805 0.59607977]\n",
      "Rata-rata akurasi:  0.595965713969369\n",
      "Standar deviasi akurasi:  0.000505059578458796\n"
     ]
    }
   ],
   "source": [
    "# Membuat objek model Naive Bayes\n",
    "model = GaussianNB()\n",
    "\n",
    "# Membuat objek KFold dengan 3 lipatan\n",
    "kfold = KFold(n_splits=3)\n",
    "\n",
    "# Melakukan cross validation dengan model Naive Bayes\n",
    "scores = cross_val_score(model, X_train, y_train, cv=kfold)\n",
    "\n",
    "# Menampilkan hasil evaluasi kinerja model pada setiap lipatan\n",
    "print(\"Hasil Cross Validation (akurasi): \", scores)\n",
    "\n",
    "# Menampilkan rata-rata dan standar deviasi dari hasil cross validation\n",
    "print(\"Rata-rata akurasi: \", scores.mean())\n",
    "print(\"Standar deviasi akurasi: \", scores.std())"
   ]
  },
  {
   "cell_type": "code",
   "execution_count": 14,
   "id": "4b3b62d4",
   "metadata": {},
   "outputs": [
    {
     "name": "stdout",
     "output_type": "stream",
     "text": [
      "Parameter terbaik:  {'var_smoothing': 1e-08}\n",
      "Akurasi terbaik:  0.6028857140954142\n"
     ]
    }
   ],
   "source": [
    "from sklearn.model_selection import GridSearchCV\n",
    "\n",
    "# Definisikan parameter yang akan dituned\n",
    "param_grid = {'var_smoothing': [1e-9, 1e-8, 1e-7, 1e-6, 1e-5]}\n",
    "\n",
    "# Buat objek GridSearchCV dengan model Naive Bayes dan parameter grid\n",
    "grid_search = GridSearchCV(model, param_grid, cv=kfold)\n",
    "\n",
    "# Lakukan grid search pada data latih\n",
    "grid_search.fit(X_train, y_train)\n",
    "\n",
    "# Menampilkan hasil grid search terbaik\n",
    "print(\"Parameter terbaik: \", grid_search.best_params_)\n",
    "print(\"Akurasi terbaik: \", grid_search.best_score_)"
   ]
  },
  {
   "cell_type": "code",
   "execution_count": 16,
   "id": "d21d7e3b",
   "metadata": {},
   "outputs": [
    {
     "name": "stdout",
     "output_type": "stream",
     "text": [
      "Hasil Cross Validation (akurasi):  [0.60321874 0.60245863 0.60297977]\n",
      "Rata-rata akurasi:  0.6028857140954142\n",
      "Standar deviasi akurasi:  0.00031736081096021774\n"
     ]
    }
   ],
   "source": [
    "# Membuat objek model Naive Bayes\n",
    "model = GaussianNB(var_smoothing=1e-08)\n",
    "\n",
    "# Membuat objek KFold dengan 3 lipatan\n",
    "kfold = KFold(n_splits=3)\n",
    "\n",
    "# Melakukan cross validation dengan model Naive Bayes\n",
    "scores = cross_val_score(model, X_train, y_train, cv=kfold)\n",
    "\n",
    "# Menampilkan hasil evaluasi kinerja model pada setiap lipatan\n",
    "print(\"Hasil Cross Validation (akurasi): \", scores)\n",
    "\n",
    "# Menampilkan rata-rata dan standar deviasi dari hasil cross validation\n",
    "print(\"Rata-rata akurasi: \", scores.mean())\n",
    "print(\"Standar deviasi akurasi: \", scores.std())"
   ]
  },
  {
   "cell_type": "markdown",
   "id": "a0d699a5",
   "metadata": {},
   "source": [
    "## Neural Network Model"
   ]
  },
  {
   "cell_type": "code",
   "execution_count": 9,
   "id": "538c58de",
   "metadata": {},
   "outputs": [],
   "source": [
    "from sklearn.neural_network import MLPClassifier\n",
    "from sklearn.model_selection import KFold, cross_val_score"
   ]
  },
  {
   "cell_type": "code",
   "execution_count": 10,
   "id": "f896befa",
   "metadata": {},
   "outputs": [
    {
     "name": "stderr",
     "output_type": "stream",
     "text": [
      "C:\\Users\\ASUS\\anaconda3\\lib\\site-packages\\sklearn\\neural_network\\_multilayer_perceptron.py:699: UserWarning: Training interrupted by user.\n",
      "  warnings.warn(\"Training interrupted by user.\")\n",
      "C:\\Users\\ASUS\\anaconda3\\lib\\site-packages\\sklearn\\neural_network\\_multilayer_perceptron.py:699: UserWarning: Training interrupted by user.\n",
      "  warnings.warn(\"Training interrupted by user.\")\n",
      "C:\\Users\\ASUS\\anaconda3\\lib\\site-packages\\sklearn\\neural_network\\_multilayer_perceptron.py:699: UserWarning: Training interrupted by user.\n",
      "  warnings.warn(\"Training interrupted by user.\")\n"
     ]
    },
    {
     "name": "stdout",
     "output_type": "stream",
     "text": [
      "Hasil Cross Validation (akurasi):  [0.50042857 0.62374836 0.57155004]\n",
      "Rata-rata akurasi:  0.5652423227507154\n",
      "Standar deviasi akurasi:  0.050542278370406875\n"
     ]
    }
   ],
   "source": [
    "# Membuat objek model Neural Network dengan 3 layer tersembunyi, masing-masing memiliki 10, 20, dan 10 node\n",
    "model = MLPClassifier(hidden_layer_sizes=(10, 20, 10))\n",
    "\n",
    "# Membuat objek KFold dengan 3 lipatan\n",
    "kfold = KFold(n_splits=3)\n",
    "\n",
    "# Melakukan cross validation dengan model Neural Network\n",
    "scores = cross_val_score(model, X_train, y_train, cv=kfold)\n",
    "\n",
    "# Menampilkan hasil evaluasi kinerja model pada setiap lipatan\n",
    "print(\"Hasil Cross Validation (akurasi): \", scores)\n",
    "\n",
    "# Menampilkan rata-rata dan standar deviasi dari hasil cross validation\n",
    "print(\"Rata-rata akurasi: \", scores.mean())\n",
    "print(\"Standar deviasi akurasi: \", scores.std())"
   ]
  },
  {
   "cell_type": "code",
   "execution_count": null,
   "id": "8fc2934c",
   "metadata": {},
   "outputs": [],
   "source": [
    "from sklearn.model_selection import GridSearchCV\n",
    "\n",
    "# Definisikan parameter yang akan dituned\n",
    "param_grid = {\n",
    "    'hidden_layer_sizes': [(10,), (20,), (10, 20,), (10, 20, 10,)]\n",
    "    #'activation': ['logistic', 'relu'],\n",
    "    #'solver': ['sgd', 'adam'],\n",
    "    #'learning_rate': ['constant', 'adaptive']\n",
    "}\n",
    "\n",
    "# Buat objek GridSearchCV dengan model Neural Network dan parameter grid\n",
    "grid_search = GridSearchCV(model, param_grid, cv=kfold)\n",
    "\n",
    "# Lakukan grid search pada data latih\n",
    "grid_search.fit(X_train, y_train)\n",
    "\n",
    "# Menampilkan hasil grid search terbaik\n",
    "print(\"Parameter terbaik: \", grid_search.best_params_)\n",
    "print(\"Akurasi terbaik: \", grid_search.best_score_)"
   ]
  },
  {
   "cell_type": "code",
   "execution_count": null,
   "id": "e17173ec",
   "metadata": {},
   "outputs": [],
   "source": [
    "from sklearn.model_selection import GridSearchCV\n",
    "\n",
    "# Definisikan parameter yang akan dituned\n",
    "param_grid = {\n",
    "    #'hidden_layer_sizes': [(10,), (20,), (10, 20,), (10, 20, 10,)],\n",
    "    'activation': ['logistic', 'relu']\n",
    "    #'solver': ['sgd', 'adam'],\n",
    "    #'learning_rate': ['constant', 'adaptive']\n",
    "}\n",
    "\n",
    "# Buat objek GridSearchCV dengan model Neural Network dan parameter grid\n",
    "grid_search = GridSearchCV(model, param_grid, cv=kfold)\n",
    "\n",
    "# Lakukan grid search pada data latih\n",
    "grid_search.fit(X_train, y_train)\n",
    "# Menampilkan hasil grid search terbaik\n",
    "print(\"Parameter terbaik: \", grid_search.best_params_)\n",
    "print(\"Akurasi terbaik: \", grid_search.best_score_)"
   ]
  },
  {
   "cell_type": "code",
   "execution_count": null,
   "id": "b1172533",
   "metadata": {},
   "outputs": [],
   "source": [
    "from sklearn.model_selection import GridSearchCV\n",
    "\n",
    "# Definisikan parameter yang akan dituned\n",
    "param_grid = {\n",
    "    #'hidden_layer_sizes': [(10,), (20,), (10, 20,), (10, 20, 10,)],\n",
    "    #'activation': ['logistic', 'relu'],\n",
    "    'solver': ['sgd', 'adam']\n",
    "    #'learning_rate': ['constant', 'adaptive']\n",
    "}\n",
    "\n",
    "# Buat objek GridSearchCV dengan model Neural Network dan parameter grid\n",
    "grid_search = GridSearchCV(model, param_grid, cv=kfold)\n",
    "\n",
    "# Lakukan grid search pada data latih\n",
    "grid_search.fit(X_train, y_train)\n",
    "# Menampilkan hasil grid search terbaik\n",
    "print(\"Parameter terbaik: \", grid_search.best_params_)\n",
    "print(\"Akurasi terbaik: \", grid_search.best_score_)"
   ]
  },
  {
   "cell_type": "code",
   "execution_count": null,
   "id": "8f05ff6e",
   "metadata": {},
   "outputs": [],
   "source": [
    "from sklearn.model_selection import GridSearchCV\n",
    "\n",
    "# Definisikan parameter yang akan dituned\n",
    "param_grid = {\n",
    "    #'hidden_layer_sizes': [(10,), (20,), (10, 20,), (10, 20, 10,)],\n",
    "    #'activation': ['logistic', 'relu'],\n",
    "    #'solver': ['sgd', 'adam'],\n",
    "    'learning_rate': ['constant', 'adaptive']\n",
    "}\n",
    "\n",
    "# Buat objek GridSearchCV dengan model Neural Network dan parameter grid\n",
    "grid_search = GridSearchCV(model, param_grid, cv=kfold)\n",
    "\n",
    "# Lakukan grid search pada data latih\n",
    "grid_search.fit(X_train, y_train)\n",
    "# Menampilkan hasil grid search terbaik\n",
    "print(\"Parameter terbaik: \", grid_search.best_params_)\n",
    "print(\"Akurasi terbaik: \", grid_search.best_score_)"
   ]
  },
  {
   "cell_type": "markdown",
   "id": "e80ce910",
   "metadata": {},
   "source": [
    "## LDA"
   ]
  },
  {
   "cell_type": "code",
   "execution_count": 9,
   "id": "c613ee3d",
   "metadata": {},
   "outputs": [
    {
     "name": "stdout",
     "output_type": "stream",
     "text": [
      "Hasil Cross Validation (akurasi):  [0.78832538 0.78732559 0.78861988]\n",
      "Rata-rata akurasi:  0.7880902855799433\n",
      "Standar deviasi akurasi:  0.0005539242297135827\n"
     ]
    }
   ],
   "source": [
    "from sklearn.discriminant_analysis import LinearDiscriminantAnalysis\n",
    "from sklearn.model_selection import cross_val_score, KFold\n",
    "\n",
    "# Membuat objek model LDA\n",
    "model = LinearDiscriminantAnalysis()\n",
    "\n",
    "# Membuat objek KFold dengan 3 lipatan\n",
    "kfold = KFold(n_splits=3)\n",
    "\n",
    "# Melakukan cross validation dengan model LDA\n",
    "scores = cross_val_score(model, X_train, y_train, cv=kfold)\n",
    "\n",
    "# Menampilkan hasil evaluasi kinerja model pada setiap lipatan\n",
    "print(\"Hasil Cross Validation (akurasi): \", scores)\n",
    "\n",
    "# Menampilkan rata-rata dan standar deviasi dari hasil cross validation\n",
    "print(\"Rata-rata akurasi: \", scores.mean())\n",
    "print(\"Standar deviasi akurasi: \", scores.std())"
   ]
  },
  {
   "cell_type": "code",
   "execution_count": 11,
   "id": "bfb9d3e4",
   "metadata": {},
   "outputs": [
    {
     "name": "stderr",
     "output_type": "stream",
     "text": [
      "C:\\Users\\ASUS\\anaconda3\\lib\\site-packages\\sklearn\\model_selection\\_validation.py:372: FitFailedWarning: \n",
      "9 fits failed out of a total of 9.\n",
      "The score on these train-test partitions for these parameters will be set to nan.\n",
      "If these failures are not expected, you can try to debug them by setting error_score='raise'.\n",
      "\n",
      "Below are more details about the failures:\n",
      "--------------------------------------------------------------------------------\n",
      "2 fits failed with the following error:\n",
      "Traceback (most recent call last):\n",
      "  File \"C:\\Users\\ASUS\\anaconda3\\lib\\site-packages\\sklearn\\model_selection\\_validation.py\", line 680, in _fit_and_score\n",
      "    estimator.fit(X_train, y_train, **fit_params)\n",
      "  File \"C:\\Users\\ASUS\\anaconda3\\lib\\site-packages\\sklearn\\discriminant_analysis.py\", line 590, in fit\n",
      "    self._solve_svd(X, y)\n",
      "  File \"C:\\Users\\ASUS\\anaconda3\\lib\\site-packages\\sklearn\\discriminant_analysis.py\", line 472, in _solve_svd\n",
      "    Xg = X[y == group, :]\n",
      "numpy.core._exceptions._ArrayMemoryError: Unable to allocate 668. MiB for an array with shape (583291, 150) and data type float64\n",
      "\n",
      "--------------------------------------------------------------------------------\n",
      "1 fits failed with the following error:\n",
      "Traceback (most recent call last):\n",
      "  File \"C:\\Users\\ASUS\\anaconda3\\lib\\site-packages\\sklearn\\model_selection\\_validation.py\", line 680, in _fit_and_score\n",
      "    estimator.fit(X_train, y_train, **fit_params)\n",
      "  File \"C:\\Users\\ASUS\\anaconda3\\lib\\site-packages\\sklearn\\discriminant_analysis.py\", line 590, in fit\n",
      "    self._solve_svd(X, y)\n",
      "  File \"C:\\Users\\ASUS\\anaconda3\\lib\\site-packages\\sklearn\\discriminant_analysis.py\", line 472, in _solve_svd\n",
      "    Xg = X[y == group, :]\n",
      "numpy.core._exceptions._ArrayMemoryError: Unable to allocate 668. MiB for an array with shape (583292, 150) and data type float64\n",
      "\n",
      "--------------------------------------------------------------------------------\n",
      "2 fits failed with the following error:\n",
      "Traceback (most recent call last):\n",
      "  File \"C:\\Users\\ASUS\\anaconda3\\lib\\site-packages\\sklearn\\model_selection\\_validation.py\", line 680, in _fit_and_score\n",
      "    estimator.fit(X_train, y_train, **fit_params)\n",
      "  File \"C:\\Users\\ASUS\\anaconda3\\lib\\site-packages\\sklearn\\discriminant_analysis.py\", line 592, in fit\n",
      "    self._solve_lsqr(\n",
      "  File \"C:\\Users\\ASUS\\anaconda3\\lib\\site-packages\\sklearn\\discriminant_analysis.py\", line 378, in _solve_lsqr\n",
      "    self.covariance_ = _class_cov(\n",
      "  File \"C:\\Users\\ASUS\\anaconda3\\lib\\site-packages\\sklearn\\discriminant_analysis.py\", line 162, in _class_cov\n",
      "    Xg = X[y == group, :]\n",
      "numpy.core._exceptions._ArrayMemoryError: Unable to allocate 668. MiB for an array with shape (583291, 150) and data type float64\n",
      "\n",
      "--------------------------------------------------------------------------------\n",
      "1 fits failed with the following error:\n",
      "Traceback (most recent call last):\n",
      "  File \"C:\\Users\\ASUS\\anaconda3\\lib\\site-packages\\sklearn\\model_selection\\_validation.py\", line 680, in _fit_and_score\n",
      "    estimator.fit(X_train, y_train, **fit_params)\n",
      "  File \"C:\\Users\\ASUS\\anaconda3\\lib\\site-packages\\sklearn\\discriminant_analysis.py\", line 592, in fit\n",
      "    self._solve_lsqr(\n",
      "  File \"C:\\Users\\ASUS\\anaconda3\\lib\\site-packages\\sklearn\\discriminant_analysis.py\", line 378, in _solve_lsqr\n",
      "    self.covariance_ = _class_cov(\n",
      "  File \"C:\\Users\\ASUS\\anaconda3\\lib\\site-packages\\sklearn\\discriminant_analysis.py\", line 162, in _class_cov\n",
      "    Xg = X[y == group, :]\n",
      "numpy.core._exceptions._ArrayMemoryError: Unable to allocate 668. MiB for an array with shape (583292, 150) and data type float64\n",
      "\n",
      "--------------------------------------------------------------------------------\n",
      "2 fits failed with the following error:\n",
      "Traceback (most recent call last):\n",
      "  File \"C:\\Users\\ASUS\\anaconda3\\lib\\site-packages\\sklearn\\model_selection\\_validation.py\", line 680, in _fit_and_score\n",
      "    estimator.fit(X_train, y_train, **fit_params)\n",
      "  File \"C:\\Users\\ASUS\\anaconda3\\lib\\site-packages\\sklearn\\discriminant_analysis.py\", line 599, in fit\n",
      "    self._solve_eigen(\n",
      "  File \"C:\\Users\\ASUS\\anaconda3\\lib\\site-packages\\sklearn\\discriminant_analysis.py\", line 432, in _solve_eigen\n",
      "    self.covariance_ = _class_cov(\n",
      "  File \"C:\\Users\\ASUS\\anaconda3\\lib\\site-packages\\sklearn\\discriminant_analysis.py\", line 162, in _class_cov\n",
      "    Xg = X[y == group, :]\n",
      "numpy.core._exceptions._ArrayMemoryError: Unable to allocate 668. MiB for an array with shape (583291, 150) and data type float64\n",
      "\n",
      "--------------------------------------------------------------------------------\n",
      "1 fits failed with the following error:\n",
      "Traceback (most recent call last):\n",
      "  File \"C:\\Users\\ASUS\\anaconda3\\lib\\site-packages\\sklearn\\model_selection\\_validation.py\", line 680, in _fit_and_score\n",
      "    estimator.fit(X_train, y_train, **fit_params)\n",
      "  File \"C:\\Users\\ASUS\\anaconda3\\lib\\site-packages\\sklearn\\discriminant_analysis.py\", line 599, in fit\n",
      "    self._solve_eigen(\n",
      "  File \"C:\\Users\\ASUS\\anaconda3\\lib\\site-packages\\sklearn\\discriminant_analysis.py\", line 432, in _solve_eigen\n",
      "    self.covariance_ = _class_cov(\n",
      "  File \"C:\\Users\\ASUS\\anaconda3\\lib\\site-packages\\sklearn\\discriminant_analysis.py\", line 162, in _class_cov\n",
      "    Xg = X[y == group, :]\n",
      "numpy.core._exceptions._ArrayMemoryError: Unable to allocate 668. MiB for an array with shape (583292, 150) and data type float64\n",
      "\n",
      "  warnings.warn(some_fits_failed_message, FitFailedWarning)\n",
      "C:\\Users\\ASUS\\anaconda3\\lib\\site-packages\\sklearn\\model_selection\\_search.py:969: UserWarning: One or more of the test scores are non-finite: [nan nan nan]\n",
      "  warnings.warn(\n"
     ]
    },
    {
     "ename": "MemoryError",
     "evalue": "Unable to allocate 1001. MiB for an array with shape (874937, 150) and data type float64",
     "output_type": "error",
     "traceback": [
      "\u001b[1;31m---------------------------------------------------------------------------\u001b[0m",
      "\u001b[1;31mMemoryError\u001b[0m                               Traceback (most recent call last)",
      "\u001b[1;32m~\\AppData\\Local\\Temp\\ipykernel_5828\\743478195.py\u001b[0m in \u001b[0;36m<module>\u001b[1;34m\u001b[0m\n\u001b[0;32m     15\u001b[0m \u001b[1;33m\u001b[0m\u001b[0m\n\u001b[0;32m     16\u001b[0m \u001b[1;31m# Lakukan fit dengan data pelatihan untuk mencari kombinasi hyperparameter terbaik\u001b[0m\u001b[1;33m\u001b[0m\u001b[1;33m\u001b[0m\u001b[0m\n\u001b[1;32m---> 17\u001b[1;33m \u001b[0mgrid_search\u001b[0m\u001b[1;33m.\u001b[0m\u001b[0mfit\u001b[0m\u001b[1;33m(\u001b[0m\u001b[0mX_train\u001b[0m\u001b[1;33m,\u001b[0m \u001b[0my_train\u001b[0m\u001b[1;33m)\u001b[0m\u001b[1;33m\u001b[0m\u001b[1;33m\u001b[0m\u001b[0m\n\u001b[0m\u001b[0;32m     18\u001b[0m \u001b[1;33m\u001b[0m\u001b[0m\n\u001b[0;32m     19\u001b[0m \u001b[1;31m# Melihat hasil terbaik dan parameter yang menghasilkannya\u001b[0m\u001b[1;33m\u001b[0m\u001b[1;33m\u001b[0m\u001b[0m\n",
      "\u001b[1;32m~\\anaconda3\\lib\\site-packages\\sklearn\\model_selection\\_search.py\u001b[0m in \u001b[0;36mfit\u001b[1;34m(self, X, y, groups, **fit_params)\u001b[0m\n\u001b[0;32m    924\u001b[0m             \u001b[0mrefit_start_time\u001b[0m \u001b[1;33m=\u001b[0m \u001b[0mtime\u001b[0m\u001b[1;33m.\u001b[0m\u001b[0mtime\u001b[0m\u001b[1;33m(\u001b[0m\u001b[1;33m)\u001b[0m\u001b[1;33m\u001b[0m\u001b[1;33m\u001b[0m\u001b[0m\n\u001b[0;32m    925\u001b[0m             \u001b[1;32mif\u001b[0m \u001b[0my\u001b[0m \u001b[1;32mis\u001b[0m \u001b[1;32mnot\u001b[0m \u001b[1;32mNone\u001b[0m\u001b[1;33m:\u001b[0m\u001b[1;33m\u001b[0m\u001b[1;33m\u001b[0m\u001b[0m\n\u001b[1;32m--> 926\u001b[1;33m                 \u001b[0mself\u001b[0m\u001b[1;33m.\u001b[0m\u001b[0mbest_estimator_\u001b[0m\u001b[1;33m.\u001b[0m\u001b[0mfit\u001b[0m\u001b[1;33m(\u001b[0m\u001b[0mX\u001b[0m\u001b[1;33m,\u001b[0m \u001b[0my\u001b[0m\u001b[1;33m,\u001b[0m \u001b[1;33m**\u001b[0m\u001b[0mfit_params\u001b[0m\u001b[1;33m)\u001b[0m\u001b[1;33m\u001b[0m\u001b[1;33m\u001b[0m\u001b[0m\n\u001b[0m\u001b[0;32m    927\u001b[0m             \u001b[1;32melse\u001b[0m\u001b[1;33m:\u001b[0m\u001b[1;33m\u001b[0m\u001b[1;33m\u001b[0m\u001b[0m\n\u001b[0;32m    928\u001b[0m                 \u001b[0mself\u001b[0m\u001b[1;33m.\u001b[0m\u001b[0mbest_estimator_\u001b[0m\u001b[1;33m.\u001b[0m\u001b[0mfit\u001b[0m\u001b[1;33m(\u001b[0m\u001b[0mX\u001b[0m\u001b[1;33m,\u001b[0m \u001b[1;33m**\u001b[0m\u001b[0mfit_params\u001b[0m\u001b[1;33m)\u001b[0m\u001b[1;33m\u001b[0m\u001b[1;33m\u001b[0m\u001b[0m\n",
      "\u001b[1;32m~\\anaconda3\\lib\\site-packages\\sklearn\\discriminant_analysis.py\u001b[0m in \u001b[0;36mfit\u001b[1;34m(self, X, y)\u001b[0m\n\u001b[0;32m    588\u001b[0m                     \u001b[1;34m\"with svd solver. Try another solver\"\u001b[0m\u001b[1;33m\u001b[0m\u001b[1;33m\u001b[0m\u001b[0m\n\u001b[0;32m    589\u001b[0m                 )\n\u001b[1;32m--> 590\u001b[1;33m             \u001b[0mself\u001b[0m\u001b[1;33m.\u001b[0m\u001b[0m_solve_svd\u001b[0m\u001b[1;33m(\u001b[0m\u001b[0mX\u001b[0m\u001b[1;33m,\u001b[0m \u001b[0my\u001b[0m\u001b[1;33m)\u001b[0m\u001b[1;33m\u001b[0m\u001b[1;33m\u001b[0m\u001b[0m\n\u001b[0m\u001b[0;32m    591\u001b[0m         \u001b[1;32melif\u001b[0m \u001b[0mself\u001b[0m\u001b[1;33m.\u001b[0m\u001b[0msolver\u001b[0m \u001b[1;33m==\u001b[0m \u001b[1;34m\"lsqr\"\u001b[0m\u001b[1;33m:\u001b[0m\u001b[1;33m\u001b[0m\u001b[1;33m\u001b[0m\u001b[0m\n\u001b[0;32m    592\u001b[0m             self._solve_lsqr(\n",
      "\u001b[1;32m~\\anaconda3\\lib\\site-packages\\sklearn\\discriminant_analysis.py\u001b[0m in \u001b[0;36m_solve_svd\u001b[1;34m(self, X, y)\u001b[0m\n\u001b[0;32m    470\u001b[0m         \u001b[0mXc\u001b[0m \u001b[1;33m=\u001b[0m \u001b[1;33m[\u001b[0m\u001b[1;33m]\u001b[0m\u001b[1;33m\u001b[0m\u001b[1;33m\u001b[0m\u001b[0m\n\u001b[0;32m    471\u001b[0m         \u001b[1;32mfor\u001b[0m \u001b[0midx\u001b[0m\u001b[1;33m,\u001b[0m \u001b[0mgroup\u001b[0m \u001b[1;32min\u001b[0m \u001b[0menumerate\u001b[0m\u001b[1;33m(\u001b[0m\u001b[0mself\u001b[0m\u001b[1;33m.\u001b[0m\u001b[0mclasses_\u001b[0m\u001b[1;33m)\u001b[0m\u001b[1;33m:\u001b[0m\u001b[1;33m\u001b[0m\u001b[1;33m\u001b[0m\u001b[0m\n\u001b[1;32m--> 472\u001b[1;33m             \u001b[0mXg\u001b[0m \u001b[1;33m=\u001b[0m \u001b[0mX\u001b[0m\u001b[1;33m[\u001b[0m\u001b[0my\u001b[0m \u001b[1;33m==\u001b[0m \u001b[0mgroup\u001b[0m\u001b[1;33m,\u001b[0m \u001b[1;33m:\u001b[0m\u001b[1;33m]\u001b[0m\u001b[1;33m\u001b[0m\u001b[1;33m\u001b[0m\u001b[0m\n\u001b[0m\u001b[0;32m    473\u001b[0m             \u001b[0mXc\u001b[0m\u001b[1;33m.\u001b[0m\u001b[0mappend\u001b[0m\u001b[1;33m(\u001b[0m\u001b[0mXg\u001b[0m \u001b[1;33m-\u001b[0m \u001b[0mself\u001b[0m\u001b[1;33m.\u001b[0m\u001b[0mmeans_\u001b[0m\u001b[1;33m[\u001b[0m\u001b[0midx\u001b[0m\u001b[1;33m]\u001b[0m\u001b[1;33m)\u001b[0m\u001b[1;33m\u001b[0m\u001b[1;33m\u001b[0m\u001b[0m\n\u001b[0;32m    474\u001b[0m \u001b[1;33m\u001b[0m\u001b[0m\n",
      "\u001b[1;31mMemoryError\u001b[0m: Unable to allocate 1001. MiB for an array with shape (874937, 150) and data type float64"
     ]
    }
   ],
   "source": [
    "from sklearn.discriminant_analysis import LinearDiscriminantAnalysis\n",
    "from sklearn.model_selection import GridSearchCV\n",
    "\n",
    "# Membuat objek model Linear Discriminant Analysis (LDA)\n",
    "model = LinearDiscriminantAnalysis()\n",
    "\n",
    "# Tentukan dictionary dari hyperparameter yang ingin Anda tuning dan nilai-nilai yang ingin Anda coba\n",
    "param_grid = {\n",
    "    'solver': ['svd', 'lsqr', 'eigen']\n",
    "    #'shrinkage': [None, 'auto', 0.1, 0.2, 0.3]\n",
    "}\n",
    "\n",
    "# Buat objek GridSearchCV dengan model, parameter grid, dan jumlah lipatan cross-validation yang diinginkan\n",
    "grid_search = GridSearchCV(model, param_grid, cv=3)\n",
    "\n",
    "# Lakukan fit dengan data pelatihan untuk mencari kombinasi hyperparameter terbaik\n",
    "grid_search.fit(X_train, y_train)\n",
    "\n",
    "# Melihat hasil terbaik dan parameter yang menghasilkannya\n",
    "print(\"Best parameters: \", grid_search.best_params_)\n",
    "print(\"Best score: \", grid_search.best_score_)"
   ]
  },
  {
   "cell_type": "code",
   "execution_count": null,
   "id": "b70f4f2f",
   "metadata": {},
   "outputs": [],
   "source": [
    "from sklearn.discriminant_analysis import LinearDiscriminantAnalysis\n",
    "from sklearn.model_selection import GridSearchCV\n",
    "\n",
    "# Membuat objek model Linear Discriminant Analysis (LDA)\n",
    "model = LinearDiscriminantAnalysis()\n",
    "\n",
    "# Tentukan dictionary dari hyperparameter yang ingin Anda tuning dan nilai-nilai yang ingin Anda coba\n",
    "param_grid = {\n",
    "    #'solver': ['svd', 'lsqr', 'eigen'],\n",
    "    'shrinkage': [None, 'auto', 0.1, 0.2, 0.3]\n",
    "}\n",
    "\n",
    "# Buat objek GridSearchCV dengan model, parameter grid, dan jumlah lipatan cross-validation yang diinginkan\n",
    "grid_search = GridSearchCV(model, param_grid, cv=3)\n",
    "\n",
    "# Lakukan fit dengan data pelatihan untuk mencari kombinasi hyperparameter terbaik\n",
    "grid_search.fit(X_train, y_train)\n",
    "\n",
    "# Melihat hasil terbaik dan parameter yang menghasilkannya\n",
    "print(\"Best parameters: \", grid_search.best_params_)\n",
    "print(\"Best score: \", grid_search.best_score_)"
   ]
  },
  {
   "cell_type": "code",
   "execution_count": 17,
   "id": "0147d09c",
   "metadata": {},
   "outputs": [
    {
     "name": "stdout",
     "output_type": "stream",
     "text": [
      "ROC AUC: 0.852825249997251\n"
     ]
    }
   ],
   "source": [
    "from sklearn.discriminant_analysis import LinearDiscriminantAnalysis\n",
    "from sklearn.metrics import roc_auc_score\n",
    "\n",
    "# Inisialisasi model LDA\n",
    "model = LinearDiscriminantAnalysis()\n",
    "\n",
    "# Latih model dengan set pelatihan (X_train, y_train)\n",
    "model.fit(X_train, y_train)\n",
    "\n",
    "# Menghitung nilai prediksi probabilitas untuk kelas positif\n",
    "y_pred_prob = model.predict_proba(X_test)[:, 1]\n",
    "\n",
    "# Menghitung ROC-AUC score\n",
    "roc_auc = roc_auc_score(y_test, y_pred_prob)\n",
    "print(\"ROC AUC:\", roc_auc)"
   ]
  },
  {
   "cell_type": "code",
   "execution_count": 18,
   "id": "9b54ddf2",
   "metadata": {
    "scrolled": true
   },
   "outputs": [
    {
     "data": {
      "image/png": "[encoded data removed]",
      "text/plain": [
       "<Figure size 800x600 with 1 Axes>"
      ]
     },
     "metadata": {},
     "output_type": "display_data"
    }
   ],
   "source": [
    "import matplotlib.pyplot as plt\n",
    "from sklearn.metrics import roc_curve\n",
    "\n",
    "# Menghitung false positive rate (fpr) dan true positive rate (tpr) pada variasi threshold\n",
    "fpr, tpr, thresholds = roc_curve(y_test, y_pred_prob)\n",
    "\n",
    "# Menghitung nilai AUC (Area Under the Curve)\n",
    "roc_auc = roc_auc_score(y_test, y_pred_prob)\n",
    "\n",
    "# Membuat plot ROC curve\n",
    "plt.figure(figsize=(8, 6))\n",
    "plt.plot(fpr, tpr, label='ROC curve (area = %0.2f)' % roc_auc)\n",
    "plt.plot([0, 1], [0, 1], 'k--')  # Garis diagonal acak\n",
    "plt.xlim([0.0, 1.0])\n",
    "plt.ylim([0.0, 1.05])\n",
    "plt.xlabel('False Positive Rate')\n",
    "plt.ylabel('True Positive Rate')\n",
    "plt.title('Receiver Operating Characteristic')\n",
    "plt.legend(loc=\"lower right\")\n",
    "plt.show()"
   ]
  },
  {
   "cell_type": "code",
   "execution_count": 25,
   "id": "20969ccf",
   "metadata": {},
   "outputs": [
    {
     "name": "stdout",
     "output_type": "stream",
     "text": [
      "Total Churn: 415334 data (55.37786666666666%)\n",
      "Total Non-Churn: 334666 data (44.62213333333334%)\n"
     ]
    }
   ],
   "source": [
    "from sklearn.discriminant_analysis import LinearDiscriminantAnalysis\n",
    "\n",
    "# Inisialisasi model LDA\n",
    "model = LinearDiscriminantAnalysis()\n",
    "\n",
    "# Latih model dengan set pelatihan (X_train, y_train)\n",
    "model.fit(X_train, y_train)\n",
    "\n",
    "# Menghitung nilai prediksi probabilitas untuk kelas churn dan non-churn\n",
    "pred_prob = model.predict_proba(X_test)\n",
    "\n",
    "# Mengambil probabilitas churn dari hasil prediksi probabilitas\n",
    "prob_churn = pred_prob[:, 1]  # Probabilitas churn (kelas positif)\n",
    "\n",
    "# Menentukan threshold untuk prediksi churn\n",
    "threshold = 0.5\n",
    "\n",
    "# Menghitung jumlah churn dan non-churn berdasarkan threshold\n",
    "churn_count = (prob_churn >= threshold).sum()\n",
    "non_churn_count = (prob_churn < threshold).sum()\n",
    "\n",
    "# Menghitung persentase churn dan non-churn\n",
    "total_count = len(X_test)\n",
    "churn_percentage = (churn_count / total_count) * 100\n",
    "non_churn_percentage = (non_churn_count / total_count) * 100\n",
    "\n",
    "# Menampilkan hasil\n",
    "print(\"Total Churn: {} data ({}%)\".format(churn_count, churn_percentage))\n",
    "print(\"Total Non-Churn: {} data ({}%)\".format(non_churn_count, non_churn_percentage))"
   ]
  },
  {
   "cell_type": "markdown",
   "id": "8fb8ac29",
   "metadata": {},
   "source": [
    "## Future Importance"
   ]
  },
  {
   "cell_type": "code",
   "execution_count": 15,
   "id": "ce1bfd0e",
   "metadata": {
    "scrolled": true
   },
   "outputs": [
    {
     "name": "stdout",
     "output_type": "stream",
     "text": [
      "OCCUPATION_TYPE_Low-skill Laborers : 2.282305796741512\n",
      "CREDIT_CURRENCY_currency 1 : 2.22258188995978\n",
      "OCCUPATION_TYPE_Cooking staff : 2.073249836824766\n",
      "OCCUPATION_TYPE_Cleaning staff : 1.6260247692534724\n",
      "OCCUPATION_TYPE_Secretaries : 1.4756279692166552\n",
      "NAME_FAMILY_STATUS_Separated : 1.3911314121078522\n",
      "OCCUPATION_TYPE_HR staff : 0.9860996724290217\n",
      "WEEKDAY_APPR_PROCESS_START_SUNDAY : 0.7428134040878456\n",
      "CHANNEL_TYPE_Regional / Local : 0.7233328448986235\n",
      "OCCUPATION_TYPE_High skill tech staff : 0.6777334667541755\n",
      "OCCUPATION_TYPE_Sales staff : 0.675669538545795\n",
      "CHANNEL_TYPE_Credit and cash offices : 0.6569335503392476\n",
      "STATUS_4 : 0.6063478944384412\n",
      "WEEKDAY_APPR_PROCESS_START_TUESDAY : 0.33194508147202995\n",
      "NAME_INCOME_TYPE_Commercial associate : 0.2739410844577534\n"
     ]
    }
   ],
   "source": [
    "import numpy as np\n",
    "\n",
    "# Mendapatkan feature importance dari model\n",
    "importance = model.coef_[0]\n",
    "\n",
    "# Mengurutkan feature importance secara menurun\n",
    "sorted_indices = np.argsort(importance)[::-1]\n",
    "sorted_importance = importance[sorted_indices]\n",
    "sorted_feature_names = X.columns[sorted_indices]\n",
    "\n",
    "# Menampilkan top 15 feature importance\n",
    "for feature_name, importance_score in zip(sorted_feature_names[:15], sorted_importance[:15]):\n",
    "    print(feature_name, \":\", importance_score)"
   ]
  },
  {
   "cell_type": "code",
   "execution_count": 26,
   "id": "84e0964a",
   "metadata": {
    "scrolled": true
   },
   "outputs": [
    {
     "data": {
      "text/html": [
       "<div>\n",
       "<style scoped>\n",
       "    .dataframe tbody tr th:only-of-type {\n",
       "        vertical-align: middle;\n",
       "    }\n",
       "\n",
       "    .dataframe tbody tr th {\n",
       "        vertical-align: top;\n",
       "    }\n",
       "\n",
       "    .dataframe thead th {\n",
       "        text-align: right;\n",
       "    }\n",
       "</style>\n",
       "<table border=\"1\" class=\"dataframe\">\n",
       "  <thead>\n",
       "    <tr style=\"text-align: right;\">\n",
       "      <th></th>\n",
       "      <th>SK_ID_CURR</th>\n",
       "      <th>Churn Probability</th>\n",
       "    </tr>\n",
       "  </thead>\n",
       "  <tbody>\n",
       "    <tr>\n",
       "      <th>248124</th>\n",
       "      <td>167447</td>\n",
       "      <td>0.591336</td>\n",
       "    </tr>\n",
       "    <tr>\n",
       "      <th>24829</th>\n",
       "      <td>121590</td>\n",
       "      <td>0.965230</td>\n",
       "    </tr>\n",
       "    <tr>\n",
       "      <th>1101939</th>\n",
       "      <td>143441</td>\n",
       "      <td>0.099042</td>\n",
       "    </tr>\n",
       "    <tr>\n",
       "      <th>1935740</th>\n",
       "      <td>118505</td>\n",
       "      <td>0.762892</td>\n",
       "    </tr>\n",
       "    <tr>\n",
       "      <th>2180986</th>\n",
       "      <td>177000</td>\n",
       "      <td>0.590873</td>\n",
       "    </tr>\n",
       "    <tr>\n",
       "      <th>...</th>\n",
       "      <td>...</td>\n",
       "      <td>...</td>\n",
       "    </tr>\n",
       "    <tr>\n",
       "      <th>2137887</th>\n",
       "      <td>189768</td>\n",
       "      <td>0.820387</td>\n",
       "    </tr>\n",
       "    <tr>\n",
       "      <th>187970</th>\n",
       "      <td>145500</td>\n",
       "      <td>0.048447</td>\n",
       "    </tr>\n",
       "    <tr>\n",
       "      <th>1151394</th>\n",
       "      <td>146196</td>\n",
       "      <td>0.241447</td>\n",
       "    </tr>\n",
       "    <tr>\n",
       "      <th>669866</th>\n",
       "      <td>146196</td>\n",
       "      <td>0.243901</td>\n",
       "    </tr>\n",
       "    <tr>\n",
       "      <th>393961</th>\n",
       "      <td>120369</td>\n",
       "      <td>0.016718</td>\n",
       "    </tr>\n",
       "  </tbody>\n",
       "</table>\n",
       "<p>750000 rows × 2 columns</p>\n",
       "</div>"
      ],
      "text/plain": [
       "         SK_ID_CURR  Churn Probability\n",
       "248124       167447           0.591336\n",
       "24829        121590           0.965230\n",
       "1101939      143441           0.099042\n",
       "1935740      118505           0.762892\n",
       "2180986      177000           0.590873\n",
       "...             ...                ...\n",
       "2137887      189768           0.820387\n",
       "187970       145500           0.048447\n",
       "1151394      146196           0.241447\n",
       "669866       146196           0.243901\n",
       "393961       120369           0.016718\n",
       "\n",
       "[750000 rows x 2 columns]"
      ]
     },
     "execution_count": 26,
     "metadata": {},
     "output_type": "execute_result"
    }
   ],
   "source": [
    "import pandas as pd\n",
    "\n",
    "# Melakukan prediksi probabilitas untuk data uji\n",
    "proba_predictions = model.predict_proba(X_test)\n",
    "\n",
    "# Mengambil probabilitas untuk kelas churn (1)\n",
    "churn_probabilities = proba_predictions[:, 1]\n",
    "\n",
    "# Membentuk DataFrame dengan kolom \"SK_ID_CURR\" dan \"Churn Probability\"\n",
    "output_df = pd.DataFrame({'SK_ID_CURR': X_test['SK_ID_CURR'], 'Churn Probability': churn_probabilities})\n",
    "\n",
    "# Menampilkan tabel output\n",
    "output_df"
   ]
  },
  {
   "cell_type": "code",
   "execution_count": 30,
   "id": "1f558554",
   "metadata": {},
   "outputs": [
    {
     "data": {
      "text/html": [
       "<div>\n",
       "<style scoped>\n",
       "    .dataframe tbody tr th:only-of-type {\n",
       "        vertical-align: middle;\n",
       "    }\n",
       "\n",
       "    .dataframe tbody tr th {\n",
       "        vertical-align: top;\n",
       "    }\n",
       "\n",
       "    .dataframe thead th {\n",
       "        text-align: right;\n",
       "    }\n",
       "</style>\n",
       "<table border=\"1\" class=\"dataframe\">\n",
       "  <thead>\n",
       "    <tr style=\"text-align: right;\">\n",
       "      <th></th>\n",
       "      <th>TARGET</th>\n",
       "      <th>count</th>\n",
       "    </tr>\n",
       "  </thead>\n",
       "  <tbody>\n",
       "    <tr>\n",
       "      <th>0</th>\n",
       "      <td>0</td>\n",
       "      <td>334666</td>\n",
       "    </tr>\n",
       "    <tr>\n",
       "      <th>1</th>\n",
       "      <td>1</td>\n",
       "      <td>415334</td>\n",
       "    </tr>\n",
       "  </tbody>\n",
       "</table>\n",
       "</div>"
      ],
      "text/plain": [
       "  TARGET   count\n",
       "0      0  334666\n",
       "1      1  415334"
      ]
     },
     "execution_count": 30,
     "metadata": {},
     "output_type": "execute_result"
    }
   ],
   "source": [
    "# Memfilter data dengan probabilitas churn di bawah 50%\n",
    "below_50 = output_df[output_df['Churn Probability'] < 0.5]\n",
    "\n",
    "# Memfilter data dengan probabilitas churn di atas 50%\n",
    "above_50 = output_df[output_df['Churn Probability'] >= 0.5]\n",
    "\n",
    "# Menghitung jumlah orang dengan probabilitas churn di bawah 50%\n",
    "count_below_50 = below_50.shape[0]\n",
    "\n",
    "# Menghitung jumlah orang dengan probabilitas churn di atas 50%\n",
    "count_above_50 = above_50.shape[0]\n",
    "\n",
    "# Membentuk DataFrame output\n",
    "output_summary = pd.DataFrame({'TARGET': ['0', '1'], 'count': [count_below_50, count_above_50]})\n",
    "\n",
    "# Menampilkan tabel output\n",
    "output_summary"
   ]
  }
 ],
 "metadata": {
  "kernelspec": {
   "display_name": "Python 3 (ipykernel)",
   "language": "python",
   "name": "python3"
  },
  "language_info": {
   "codemirror_mode": {
    "name": "ipython",
    "version": 3
   },
   "file_extension": ".py",
   "mimetype": "text/x-python",
   "name": "python",
   "nbconvert_exporter": "python",
   "pygments_lexer": "ipython3",
   "version": "3.8.16"
  }
 },
 "nbformat": 4,
 "nbformat_minor": 5
}
